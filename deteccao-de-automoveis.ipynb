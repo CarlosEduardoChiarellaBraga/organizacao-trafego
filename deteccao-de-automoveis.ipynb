{
 "cells": [
  {
   "cell_type": "markdown",
   "metadata": {},
   "source": [
    "### Importação das bibliotecas"
   ]
  },
  {
   "cell_type": "code",
   "execution_count": 1,
   "metadata": {},
   "outputs": [],
   "source": [
    "import cv2 as cv\n",
    "from ultralytics import YOLO\n",
    "import random"
   ]
  },
  {
   "cell_type": "markdown",
   "metadata": {},
   "source": [
    "### Configurações"
   ]
  },
  {
   "cell_type": "code",
   "execution_count": 16,
   "metadata": {},
   "outputs": [],
   "source": [
    "MODEL_SOURCE_PATH = 'yolov8n.pt'\n",
    "VIDEO_SOURCE_PATH = 'files/vehicle-counting.mp4' # WEB CAM = 0\n",
    "\n",
    "# Definindo a largura e a altura dos frames\n",
    "LARGURA_FRAME = 640\n",
    "ALTURA_FRAME = 480\n",
    "\n",
    "LIMIAR_CONFIANCA = 0.3 # Limiar de confiança\n",
    "\n",
    "# Se SKIP_FRAMES for 2, a cada 2 frames será processado\n",
    "SKIP_FRAMES = 2\n",
    "frame_count = 0"
   ]
  },
  {
   "cell_type": "markdown",
   "metadata": {},
   "source": [
    "### Modelo pré-treinado"
   ]
  },
  {
   "cell_type": "code",
   "execution_count": 18,
   "metadata": {},
   "outputs": [],
   "source": [
    "# Carregando o modelo pré-treinado YOLOv8n\n",
    "model = YOLO(MODEL_SOURCE_PATH, \"v8\")\n",
    "\n",
    "# Obtendo o nome de todas as classes do modelo\n",
    "lista_classes = list(model.model.names.values())\n",
    "\n",
    "# Obtendo o número máximo de classes detectadas pelo modelo\n",
    "num_classes = len(model.model.names)\n",
    "\n",
    "# Vamos gerar cores aleatórias para as classes\n",
    "cores_deteccao = []\n",
    "for i in range(num_classes):\n",
    "    r = random.randint(0, 255)\n",
    "    g = random.randint(0, 255)\n",
    "    b = random.randint(0, 255)\n",
    "    cores_deteccao.append((b, g, r))"
   ]
  },
  {
   "cell_type": "code",
   "execution_count": 19,
   "metadata": {},
   "outputs": [],
   "source": [
    "def process_video(source_path: str | int = 0) -> None:\n",
    "    global frame_count\n",
    "\n",
    "    # Carregando o vídeo\n",
    "    cap = cv.VideoCapture(source_path)\n",
    "\n",
    "    while cap.isOpened():\n",
    "        # Capturando frame a frame\n",
    "        ret, frame = cap.read()\n",
    "\n",
    "        if not ret:\n",
    "            print(\"FIM!\")\n",
    "            break\n",
    "\n",
    "        frame_count += 1\n",
    "        if frame_count % SKIP_FRAMES != 0:\n",
    "            continue\n",
    "\n",
    "        # Redimensionando o frame\n",
    "        frame = cv.resize(frame, (LARGURA_FRAME, ALTURA_FRAME))\n",
    "\n",
    "        # Realizando a detecção de objetos no frame\n",
    "        deteccoes = model.track(source=[frame], conf=LIMIAR_CONFIANCA, save=False, iou=0.70, imgsz=640)\n",
    "\n",
    "        # Convertendo a saída do modelo para um numpy array\n",
    "        if len(deteccoes) != 0:\n",
    "            for deteccao in deteccoes:\n",
    "                caixas = deteccao.boxes\n",
    "                for caixa in caixas:\n",
    "                    id_classe = int(caixa.cls[0])\n",
    "                    confianca = float(caixa.conf[0])\n",
    "                    bb = caixa.xyxy[0]\n",
    "\n",
    "                    # Desenhando uma caixa delimitadora ao redor do objeto detectado\n",
    "                    cv.rectangle(frame,\n",
    "                                (int(bb[0]), int(bb[1])),\n",
    "                                (int(bb[2]), int(bb[3])),\n",
    "                                cores_deteccao[id_classe],\n",
    "                                3)\n",
    "                    \n",
    "                    # Exibindo o nome da classe e a confiança da detecção\n",
    "                    fonte = cv.FONT_HERSHEY_COMPLEX\n",
    "                    cv.putText(\n",
    "                        frame,\n",
    "                        lista_classes[int(id_classe)]\n",
    "                        + \" \"\n",
    "                        + str(round(confianca, 3))\n",
    "                        + \"%\",\n",
    "                        (int(bb[0]), int(bb[1]) - 10),\n",
    "                        fonte,\n",
    "                        1,\n",
    "                        (255, 255, 255),\n",
    "                        2,\n",
    "                    )\n",
    "\n",
    "        # Exibindo o frame resultante\n",
    "        cv.imshow('Detecção de Objetos', frame)\n",
    "\n",
    "        # Terminando a execução quando \"Q\" é pressionado\n",
    "        if cv.waitKey(1) == ord('q'):\n",
    "            break\n",
    "\n",
    "    cap.release() # Libera a captura de vídeo\n",
    "    cv.destroyAllWindows() # Fecha todas as janelas"
   ]
  },
  {
   "cell_type": "code",
   "execution_count": null,
   "metadata": {},
   "outputs": [],
   "source": [
    "# Executar web cam\n",
    "process_video()"
   ]
  },
  {
   "cell_type": "code",
   "execution_count": null,
   "metadata": {},
   "outputs": [],
   "source": [
    "# Executar video de demonstração\n",
    "process_video(source_path=VIDEO_SOURCE_PATH)"
   ]
  }
 ],
 "metadata": {
  "kernelspec": {
   "display_name": ".venv",
   "language": "python",
   "name": "python3"
  },
  "language_info": {
   "codemirror_mode": {
    "name": "ipython",
    "version": 3
   },
   "file_extension": ".py",
   "mimetype": "text/x-python",
   "name": "python",
   "nbconvert_exporter": "python",
   "pygments_lexer": "ipython3",
   "version": "3.12.3"
  }
 },
 "nbformat": 4,
 "nbformat_minor": 2
}
